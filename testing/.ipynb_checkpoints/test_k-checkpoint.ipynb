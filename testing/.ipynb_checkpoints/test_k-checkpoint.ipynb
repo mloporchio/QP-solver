{
 "cells": [
  {
   "cell_type": "code",
   "execution_count": 1,
   "metadata": {},
   "outputs": [],
   "source": [
    "import pandas as pd\n",
    "import numpy as np\n",
    "import matplotlib.pyplot as plt"
   ]
  },
  {
   "cell_type": "code",
   "execution_count": 2,
   "metadata": {},
   "outputs": [],
   "source": [
    "df1 = pd.read_csv('test_k_alg.csv', header=None);"
   ]
  },
  {
   "cell_type": "code",
   "execution_count": 4,
   "metadata": {},
   "outputs": [
    {
     "data": {
      "text/html": [
       "<div>\n",
       "<style scoped>\n",
       "    .dataframe tbody tr th:only-of-type {\n",
       "        vertical-align: middle;\n",
       "    }\n",
       "\n",
       "    .dataframe tbody tr th {\n",
       "        vertical-align: top;\n",
       "    }\n",
       "\n",
       "    .dataframe thead th {\n",
       "        text-align: right;\n",
       "    }\n",
       "</style>\n",
       "<table border=\"1\" class=\"dataframe\">\n",
       "  <thead>\n",
       "    <tr style=\"text-align: right;\">\n",
       "      <th></th>\n",
       "      <th>0</th>\n",
       "      <th>1</th>\n",
       "      <th>2</th>\n",
       "      <th>3</th>\n",
       "      <th>4</th>\n",
       "      <th>5</th>\n",
       "      <th>6</th>\n",
       "    </tr>\n",
       "  </thead>\n",
       "  <tbody>\n",
       "    <tr>\n",
       "      <th>0</th>\n",
       "      <td>1000</td>\n",
       "      <td>100</td>\n",
       "      <td>26538.202236</td>\n",
       "      <td>111.0</td>\n",
       "      <td>87.7696</td>\n",
       "      <td>1.000000e-08</td>\n",
       "      <td>0.000001</td>\n",
       "    </tr>\n",
       "    <tr>\n",
       "      <th>1</th>\n",
       "      <td>1000</td>\n",
       "      <td>10</td>\n",
       "      <td>719.718784</td>\n",
       "      <td>36.0</td>\n",
       "      <td>26.0336</td>\n",
       "      <td>1.000000e-08</td>\n",
       "      <td>0.000001</td>\n",
       "    </tr>\n",
       "    <tr>\n",
       "      <th>2</th>\n",
       "      <td>1000</td>\n",
       "      <td>11</td>\n",
       "      <td>702.490814</td>\n",
       "      <td>20.0</td>\n",
       "      <td>14.5252</td>\n",
       "      <td>1.000000e-08</td>\n",
       "      <td>0.000001</td>\n",
       "    </tr>\n",
       "    <tr>\n",
       "      <th>3</th>\n",
       "      <td>1000</td>\n",
       "      <td>12</td>\n",
       "      <td>654.865923</td>\n",
       "      <td>24.0</td>\n",
       "      <td>19.9710</td>\n",
       "      <td>1.000000e-08</td>\n",
       "      <td>0.000001</td>\n",
       "    </tr>\n",
       "    <tr>\n",
       "      <th>4</th>\n",
       "      <td>1000</td>\n",
       "      <td>13</td>\n",
       "      <td>581.179029</td>\n",
       "      <td>53.0</td>\n",
       "      <td>36.9262</td>\n",
       "      <td>1.000000e-08</td>\n",
       "      <td>0.000001</td>\n",
       "    </tr>\n",
       "  </tbody>\n",
       "</table>\n",
       "</div>"
      ],
      "text/plain": [
       "      0    1             2      3        4             5         6\n",
       "0  1000  100  26538.202236  111.0  87.7696  1.000000e-08  0.000001\n",
       "1  1000   10    719.718784   36.0  26.0336  1.000000e-08  0.000001\n",
       "2  1000   11    702.490814   20.0  14.5252  1.000000e-08  0.000001\n",
       "3  1000   12    654.865923   24.0  19.9710  1.000000e-08  0.000001\n",
       "4  1000   13    581.179029   53.0  36.9262  1.000000e-08  0.000001"
      ]
     },
     "execution_count": 4,
     "metadata": {},
     "output_type": "execute_result"
    }
   ],
   "source": [
    "df1.columns = ['n', 'k', 'opt', 'it', 'time', 'ctol', 'dtol']\n",
    "df1.head()"
   ]
  },
  {
   "cell_type": "code",
   "execution_count": null,
   "metadata": {},
   "outputs": [],
   "source": []
  }
 ],
 "metadata": {
  "kernelspec": {
   "display_name": "Python 2",
   "language": "python",
   "name": "python2"
  },
  "language_info": {
   "codemirror_mode": {
    "name": "ipython",
    "version": 2
   },
   "file_extension": ".py",
   "mimetype": "text/x-python",
   "name": "python",
   "nbconvert_exporter": "python",
   "pygments_lexer": "ipython2",
   "version": "2.7.15"
  }
 },
 "nbformat": 4,
 "nbformat_minor": 2
}
